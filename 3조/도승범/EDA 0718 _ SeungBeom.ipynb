{
 "cells": [
  {
   "cell_type": "markdown",
   "id": "f4214169",
   "metadata": {},
   "source": [
    "# 1 기본 세팅"
   ]
  },
  {
   "cell_type": "markdown",
   "id": "2b9b9973",
   "metadata": {},
   "source": [
    "# 1.1 라이브러리"
   ]
  },
  {
   "cell_type": "code",
   "execution_count": 88,
   "id": "f23adf6b",
   "metadata": {},
   "outputs": [],
   "source": [
    "import pandas as pd\n",
    "import numpy as np\n",
    "import matplotlib.pyplot as plt\n",
    "from sklearn.linear_model import LinearRegression\n",
    "import math"
   ]
  },
  {
   "cell_type": "markdown",
   "id": "c7205ac1",
   "metadata": {},
   "source": [
    "# 1.2 데이터 불러오기: ID 추가된 데이터"
   ]
  },
  {
   "cell_type": "code",
   "execution_count": 2,
   "id": "d61a762f",
   "metadata": {},
   "outputs": [
    {
     "name": "stdout",
     "output_type": "stream",
     "text": [
      "     ID  Counts gender car reality  child_num  income_total  \\\n",
      "0  ID-0       5      F   N       N          0      202500.0   \n",
      "1  ID-1       9      F   N       Y          1      247500.0   \n",
      "2  ID-2       6      M   Y       Y          0      450000.0   \n",
      "3  ID-3       2      F   N       Y          0      202500.0   \n",
      "4  ID-4       1      F   Y       Y          0      157500.0   \n",
      "\n",
      "            income_type                       edu_type     family_type  \\\n",
      "0  Commercial associate               Higher education         Married   \n",
      "1  Commercial associate  Secondary / secondary special  Civil marriage   \n",
      "2               Working               Higher education         Married   \n",
      "3  Commercial associate  Secondary / secondary special         Married   \n",
      "4         State servant               Higher education         Married   \n",
      "\n",
      "            house_type  DAYS_BIRTH  DAYS_EMPLOYED  work_phone  phone  email  \\\n",
      "0  Municipal apartment      -13899          -4709           0      0      0   \n",
      "1    House / apartment      -11380          -1540           0      0      1   \n",
      "2    House / apartment      -19087          -4434           0      1      0   \n",
      "3    House / apartment      -15088          -2092           0      1      0   \n",
      "4    House / apartment      -15037          -2105           0      0      0   \n",
      "\n",
      "                 occyp_type  family_size  begin_month  credit  \n",
      "0  Commercial_associate_etc            2           -6       1  \n",
      "1                  Laborers            3           -5       1  \n",
      "2                  Managers            2          -22       2  \n",
      "3               Sales staff            2          -37       0  \n",
      "4                  Managers            2          -26       2  \n"
     ]
    }
   ],
   "source": [
    "data_adj = pd.read_csv(\"C:/Users/sec/.spyder-py3/DSL/credit_train_ver_2.csv\")\n",
    "print(data_adj.head())"
   ]
  },
  {
   "cell_type": "code",
   "execution_count": 3,
   "id": "9eb4218b",
   "metadata": {},
   "outputs": [
    {
     "name": "stdout",
     "output_type": "stream",
     "text": [
      "26457\n"
     ]
    }
   ],
   "source": [
    "print(len(data_adj))"
   ]
  },
  {
   "cell_type": "code",
   "execution_count": 4,
   "id": "dcee0e65",
   "metadata": {
    "scrolled": true
   },
   "outputs": [
    {
     "name": "stdout",
     "output_type": "stream",
     "text": [
      "ID-6735     1\n",
      "ID-3654     1\n",
      "ID-7946     1\n",
      "ID-118      1\n",
      "ID-2393     1\n",
      "           ..\n",
      "ID-284     20\n",
      "ID-1492    21\n",
      "ID-727     24\n",
      "ID-385     24\n",
      "ID-130     35\n",
      "Name: ID, Length: 8759, dtype: int64\n"
     ]
    }
   ],
   "source": [
    "print(data_adj['ID'].value_counts().sort_values())"
   ]
  },
  {
   "cell_type": "markdown",
   "id": "1fa97fad",
   "metadata": {},
   "source": [
    "# 1.2 Days 변수들을 절대값으로 표현"
   ]
  },
  {
   "cell_type": "code",
   "execution_count": 5,
   "id": "4fe10a92",
   "metadata": {},
   "outputs": [],
   "source": [
    "#days\n",
    "\n",
    "data_adj['DAYS_BIRTH'] = abs(data_adj['DAYS_BIRTH'])\n",
    "data_adj['DAYS_EMPLOYED'] = abs(data_adj['DAYS_EMPLOYED'])\n",
    "data_adj['begin_month'] = abs(data_adj['begin_month'])"
   ]
  },
  {
   "cell_type": "code",
   "execution_count": 6,
   "id": "273a28f1",
   "metadata": {},
   "outputs": [
    {
     "name": "stdout",
     "output_type": "stream",
     "text": [
      "count    26457.000000\n",
      "mean      2198.529538\n",
      "std       2370.140530\n",
      "min          0.000000\n",
      "25%        407.000000\n",
      "50%       1539.000000\n",
      "75%       3153.000000\n",
      "max      15713.000000\n",
      "Name: DAYS_EMPLOYED, dtype: float64\n"
     ]
    }
   ],
   "source": [
    "print(data_adj['DAYS_EMPLOYED'].describe())"
   ]
  },
  {
   "cell_type": "markdown",
   "id": "11155613",
   "metadata": {},
   "source": [
    "# 1.3 Car와 Reality, gender 변수를 Dummy 변수로"
   ]
  },
  {
   "cell_type": "code",
   "execution_count": 7,
   "id": "1a7dd204",
   "metadata": {},
   "outputs": [
    {
     "name": "stdout",
     "output_type": "stream",
     "text": [
      "count    26457.000000\n",
      "mean         0.379748\n",
      "std          0.485333\n",
      "min          0.000000\n",
      "25%          0.000000\n",
      "50%          0.000000\n",
      "75%          1.000000\n",
      "max          1.000000\n",
      "Name: car, dtype: float64\n",
      "count    26457.000000\n",
      "mean         0.673924\n",
      "std          0.468784\n",
      "min          0.000000\n",
      "25%          0.000000\n",
      "50%          1.000000\n",
      "75%          1.000000\n",
      "max          1.000000\n",
      "Name: reality, dtype: float64\n",
      "count    26457.000000\n",
      "mean         0.331103\n",
      "std          0.470619\n",
      "min          0.000000\n",
      "25%          0.000000\n",
      "50%          0.000000\n",
      "75%          1.000000\n",
      "max          1.000000\n",
      "Name: gender, dtype: float64\n"
     ]
    }
   ],
   "source": [
    "#Car\n",
    "\n",
    "data_adj.loc[data_adj['car'] == 'Y', 'car'] = float(1)\n",
    "data_adj.loc[data_adj['car'] == 'N', 'car'] = float(0)\n",
    "data_adj['car'] = pd.to_numeric(data_adj['car'])\n",
    "print(data_adj['car'].describe())\n",
    "\n",
    "#Reaility\n",
    "\n",
    "data_adj.loc[data_adj['reality'] == 'Y', 'reality'] = float(1)\n",
    "data_adj.loc[data_adj['reality'] == 'N', 'reality'] = float(0)\n",
    "data_adj['reality'] = pd.to_numeric(data_adj['reality'])\n",
    "print(data_adj['reality'].describe())\n",
    "\n",
    "#Reaility\n",
    "\n",
    "data_adj.loc[data_adj['gender'] == 'M', 'gender'] = float(1)\n",
    "data_adj.loc[data_adj['gender'] == 'F', 'gender'] = float(0)\n",
    "data_adj['gender'] = pd.to_numeric(data_adj['gender'])\n",
    "print(data_adj['gender'].describe())\n"
   ]
  },
  {
   "cell_type": "markdown",
   "id": "7b7b0bf8",
   "metadata": {},
   "source": [
    "# 1.4 소득분위 변수 생성(10개분위, 4개분위)"
   ]
  },
  {
   "cell_type": "code",
   "execution_count": 38,
   "id": "e73a679e",
   "metadata": {},
   "outputs": [
    {
     "name": "stdout",
     "output_type": "stream",
     "text": [
      "count    26457.000000\n",
      "mean         5.272329\n",
      "std          2.941233\n",
      "min          1.000000\n",
      "25%          3.000000\n",
      "50%          5.000000\n",
      "75%          8.000000\n",
      "max         10.000000\n",
      "Name: income_percentile, dtype: float64\n",
      "count    26457.000000\n",
      "mean         2.451941\n",
      "std          1.089944\n",
      "min          1.000000\n",
      "25%          1.000000\n",
      "50%          2.000000\n",
      "75%          3.000000\n",
      "max          4.000000\n",
      "Name: income_quantile, dtype: float64\n"
     ]
    }
   ],
   "source": [
    "#Income percentile\n",
    "\n",
    "data_adj.loc[data_adj['income_total'] <= data_adj['income_total'].quantile(0.1), 'income_percentile'] = 1\n",
    "\n",
    "data_adj.loc[(data_adj['income_total'] > data_adj['income_total'].quantile(0.1)) & \n",
    "         (data_adj['income_total'] <= data_adj['income_total'].quantile(0.2)), 'income_percentile'] = 2\n",
    "\n",
    "data_adj.loc[(data_adj['income_total'] > data_adj['income_total'].quantile(0.2)) & \n",
    "         (data_adj['income_total'] <= data_adj['income_total'].quantile(0.3)), 'income_percentile'] = 3\n",
    "\n",
    "data_adj.loc[(data_adj['income_total'] > data_adj['income_total'].quantile(0.3)) & \n",
    "         (data_adj['income_total'] <= data_adj['income_total'].quantile(0.4)), 'income_percentile'] = 4\n",
    "\n",
    "data_adj.loc[(data_adj['income_total'] > data_adj['income_total'].quantile(0.4)) & \n",
    "         (data_adj['income_total'] <= data_adj['income_total'].quantile(0.5)), 'income_percentile'] = 5\n",
    "\n",
    "data_adj.loc[(data_adj['income_total'] > data_adj['income_total'].quantile(0.5)) & \n",
    "         (data_adj['income_total'] <= data_adj['income_total'].quantile(0.6)), 'income_percentile'] = 6\n",
    "\n",
    "data_adj.loc[(data_adj['income_total'] > data_adj['income_total'].quantile(0.6)) & \n",
    "         (data_adj['income_total'] <= data_adj['income_total'].quantile(0.7)), 'income_percentile'] = 7\n",
    "\n",
    "data_adj.loc[(data_adj['income_total'] > data_adj['income_total'].quantile(0.7)) & \n",
    "         (data_adj['income_total'] <= data_adj['income_total'].quantile(0.8)), 'income_percentile'] = 8\n",
    "\n",
    "data_adj.loc[(data_adj['income_total'] > data_adj['income_total'].quantile(0.8)) & \n",
    "         (data_adj['income_total'] <= data_adj['income_total'].quantile(0.9)), 'income_percentile'] = 9\n",
    "\n",
    "data_adj.loc[data_adj['income_total'] > data_adj['income_total'].quantile(0.9), 'income_percentile'] = 10\n",
    "\n",
    "print(data_adj['income_percentile'].describe())\n",
    "\n",
    "#Income quantile\n",
    "\n",
    "data_adj.loc[data_adj['income_total'] <= data_adj['income_total'].quantile(0.25), 'income_quantile'] = 1\n",
    "\n",
    "data_adj.loc[(data_adj['income_total'] > data_adj['income_total'].quantile(0.25)) & \n",
    "         (data_adj['income_total'] <= data_adj['income_total'].quantile(0.5)), 'income_quantile'] = 2\n",
    "\n",
    "data_adj.loc[(data_adj['income_total'] > data_adj['income_total'].quantile(0.5)) & \n",
    "         (data_adj['income_total'] <= data_adj['income_total'].quantile(0.75)), 'income_quantile'] = 3\n",
    "\n",
    "data_adj.loc[data_adj['income_total'] > data_adj['income_total'].quantile(0.75), 'income_quantile'] = 4\n",
    "             \n",
    "print(data_adj['income_quantile'].describe())\n"
   ]
  },
  {
   "cell_type": "markdown",
   "id": "07e09f30",
   "metadata": {},
   "source": [
    "# 1.5 ID별 평균 신용카드 연체율 변수: ID별 신용카드들의 연체율의 평균"
   ]
  },
  {
   "cell_type": "code",
   "execution_count": 9,
   "id": "97f6657c",
   "metadata": {},
   "outputs": [],
   "source": [
    "ID_credit = pd.DataFrame(data_adj.groupby('ID')['credit'].mean())"
   ]
  },
  {
   "cell_type": "code",
   "execution_count": 10,
   "id": "998f2872",
   "metadata": {},
   "outputs": [
    {
     "name": "stdout",
     "output_type": "stream",
     "text": [
      "           credit\n",
      "ID               \n",
      "ID-0     1.600000\n",
      "ID-1     0.555556\n",
      "ID-10    2.000000\n",
      "ID-100   2.000000\n",
      "ID-1000  2.000000\n",
      "...           ...\n",
      "ID-995   1.000000\n",
      "ID-996   2.000000\n",
      "ID-997   1.000000\n",
      "ID-998   2.000000\n",
      "ID-999   2.000000\n",
      "\n",
      "[8759 rows x 1 columns]\n"
     ]
    }
   ],
   "source": [
    "print(ID_credit)"
   ]
  },
  {
   "cell_type": "markdown",
   "id": "c7a40c5b",
   "metadata": {},
   "source": [
    "# 1.6 중복 ID 제거한 데이터프레임 생성"
   ]
  },
  {
   "cell_type": "code",
   "execution_count": 39,
   "id": "b3546cdd",
   "metadata": {},
   "outputs": [],
   "source": [
    "data_adj_unique = data_adj[['ID', 'Counts', 'gender', 'car', 'reality', 'child_num', 'income_total',\n",
    "       'income_type', 'edu_type', 'family_type', 'house_type', 'DAYS_BIRTH',\n",
    "       'DAYS_EMPLOYED', 'work_phone', 'phone', 'email', 'occyp_type',\n",
    "       'family_size', 'income_percentile', 'income_quantile']]"
   ]
  },
  {
   "cell_type": "code",
   "execution_count": 40,
   "id": "69be1a0e",
   "metadata": {
    "scrolled": true
   },
   "outputs": [
    {
     "data": {
      "text/html": [
       "<div>\n",
       "<style scoped>\n",
       "    .dataframe tbody tr th:only-of-type {\n",
       "        vertical-align: middle;\n",
       "    }\n",
       "\n",
       "    .dataframe tbody tr th {\n",
       "        vertical-align: top;\n",
       "    }\n",
       "\n",
       "    .dataframe thead th {\n",
       "        text-align: right;\n",
       "    }\n",
       "</style>\n",
       "<table border=\"1\" class=\"dataframe\">\n",
       "  <thead>\n",
       "    <tr style=\"text-align: right;\">\n",
       "      <th></th>\n",
       "      <th>ID</th>\n",
       "      <th>Counts</th>\n",
       "      <th>gender</th>\n",
       "      <th>car</th>\n",
       "      <th>reality</th>\n",
       "      <th>child_num</th>\n",
       "      <th>income_total</th>\n",
       "      <th>income_type</th>\n",
       "      <th>edu_type</th>\n",
       "      <th>family_type</th>\n",
       "      <th>house_type</th>\n",
       "      <th>DAYS_BIRTH</th>\n",
       "      <th>DAYS_EMPLOYED</th>\n",
       "      <th>work_phone</th>\n",
       "      <th>phone</th>\n",
       "      <th>email</th>\n",
       "      <th>occyp_type</th>\n",
       "      <th>family_size</th>\n",
       "      <th>income_percentile</th>\n",
       "      <th>income_quantile</th>\n",
       "    </tr>\n",
       "  </thead>\n",
       "  <tbody>\n",
       "    <tr>\n",
       "      <th>0</th>\n",
       "      <td>ID-0</td>\n",
       "      <td>5</td>\n",
       "      <td>0.0</td>\n",
       "      <td>0.0</td>\n",
       "      <td>0.0</td>\n",
       "      <td>0</td>\n",
       "      <td>202500.0</td>\n",
       "      <td>Commercial associate</td>\n",
       "      <td>Higher education</td>\n",
       "      <td>Married</td>\n",
       "      <td>Municipal apartment</td>\n",
       "      <td>13899</td>\n",
       "      <td>4709</td>\n",
       "      <td>0</td>\n",
       "      <td>0</td>\n",
       "      <td>0</td>\n",
       "      <td>Commercial_associate_etc</td>\n",
       "      <td>2</td>\n",
       "      <td>7.0</td>\n",
       "      <td>3.0</td>\n",
       "    </tr>\n",
       "    <tr>\n",
       "      <th>1</th>\n",
       "      <td>ID-1</td>\n",
       "      <td>9</td>\n",
       "      <td>0.0</td>\n",
       "      <td>0.0</td>\n",
       "      <td>1.0</td>\n",
       "      <td>1</td>\n",
       "      <td>247500.0</td>\n",
       "      <td>Commercial associate</td>\n",
       "      <td>Secondary / secondary special</td>\n",
       "      <td>Civil marriage</td>\n",
       "      <td>House / apartment</td>\n",
       "      <td>11380</td>\n",
       "      <td>1540</td>\n",
       "      <td>0</td>\n",
       "      <td>0</td>\n",
       "      <td>1</td>\n",
       "      <td>Laborers</td>\n",
       "      <td>3</td>\n",
       "      <td>8.0</td>\n",
       "      <td>4.0</td>\n",
       "    </tr>\n",
       "    <tr>\n",
       "      <th>2</th>\n",
       "      <td>ID-2</td>\n",
       "      <td>6</td>\n",
       "      <td>1.0</td>\n",
       "      <td>1.0</td>\n",
       "      <td>1.0</td>\n",
       "      <td>0</td>\n",
       "      <td>450000.0</td>\n",
       "      <td>Working</td>\n",
       "      <td>Higher education</td>\n",
       "      <td>Married</td>\n",
       "      <td>House / apartment</td>\n",
       "      <td>19087</td>\n",
       "      <td>4434</td>\n",
       "      <td>0</td>\n",
       "      <td>1</td>\n",
       "      <td>0</td>\n",
       "      <td>Managers</td>\n",
       "      <td>2</td>\n",
       "      <td>10.0</td>\n",
       "      <td>4.0</td>\n",
       "    </tr>\n",
       "    <tr>\n",
       "      <th>3</th>\n",
       "      <td>ID-3</td>\n",
       "      <td>2</td>\n",
       "      <td>0.0</td>\n",
       "      <td>0.0</td>\n",
       "      <td>1.0</td>\n",
       "      <td>0</td>\n",
       "      <td>202500.0</td>\n",
       "      <td>Commercial associate</td>\n",
       "      <td>Secondary / secondary special</td>\n",
       "      <td>Married</td>\n",
       "      <td>House / apartment</td>\n",
       "      <td>15088</td>\n",
       "      <td>2092</td>\n",
       "      <td>0</td>\n",
       "      <td>1</td>\n",
       "      <td>0</td>\n",
       "      <td>Sales staff</td>\n",
       "      <td>2</td>\n",
       "      <td>7.0</td>\n",
       "      <td>3.0</td>\n",
       "    </tr>\n",
       "    <tr>\n",
       "      <th>4</th>\n",
       "      <td>ID-4</td>\n",
       "      <td>1</td>\n",
       "      <td>0.0</td>\n",
       "      <td>1.0</td>\n",
       "      <td>1.0</td>\n",
       "      <td>0</td>\n",
       "      <td>157500.0</td>\n",
       "      <td>State servant</td>\n",
       "      <td>Higher education</td>\n",
       "      <td>Married</td>\n",
       "      <td>House / apartment</td>\n",
       "      <td>15037</td>\n",
       "      <td>2105</td>\n",
       "      <td>0</td>\n",
       "      <td>0</td>\n",
       "      <td>0</td>\n",
       "      <td>Managers</td>\n",
       "      <td>2</td>\n",
       "      <td>5.0</td>\n",
       "      <td>2.0</td>\n",
       "    </tr>\n",
       "  </tbody>\n",
       "</table>\n",
       "</div>"
      ],
      "text/plain": [
       "     ID  Counts  gender  car  reality  child_num  income_total  \\\n",
       "0  ID-0       5     0.0  0.0      0.0          0      202500.0   \n",
       "1  ID-1       9     0.0  0.0      1.0          1      247500.0   \n",
       "2  ID-2       6     1.0  1.0      1.0          0      450000.0   \n",
       "3  ID-3       2     0.0  0.0      1.0          0      202500.0   \n",
       "4  ID-4       1     0.0  1.0      1.0          0      157500.0   \n",
       "\n",
       "            income_type                       edu_type     family_type  \\\n",
       "0  Commercial associate               Higher education         Married   \n",
       "1  Commercial associate  Secondary / secondary special  Civil marriage   \n",
       "2               Working               Higher education         Married   \n",
       "3  Commercial associate  Secondary / secondary special         Married   \n",
       "4         State servant               Higher education         Married   \n",
       "\n",
       "            house_type  DAYS_BIRTH  DAYS_EMPLOYED  work_phone  phone  email  \\\n",
       "0  Municipal apartment       13899           4709           0      0      0   \n",
       "1    House / apartment       11380           1540           0      0      1   \n",
       "2    House / apartment       19087           4434           0      1      0   \n",
       "3    House / apartment       15088           2092           0      1      0   \n",
       "4    House / apartment       15037           2105           0      0      0   \n",
       "\n",
       "                 occyp_type  family_size  income_percentile  income_quantile  \n",
       "0  Commercial_associate_etc            2                7.0              3.0  \n",
       "1                  Laborers            3                8.0              4.0  \n",
       "2                  Managers            2               10.0              4.0  \n",
       "3               Sales staff            2                7.0              3.0  \n",
       "4                  Managers            2                5.0              2.0  "
      ]
     },
     "execution_count": 40,
     "metadata": {},
     "output_type": "execute_result"
    }
   ],
   "source": [
    "data_adj_unique.head()"
   ]
  },
  {
   "cell_type": "code",
   "execution_count": 41,
   "id": "5919f162",
   "metadata": {},
   "outputs": [],
   "source": [
    "data_adj_unique = data_adj_unique.drop_duplicates()"
   ]
  },
  {
   "cell_type": "code",
   "execution_count": 42,
   "id": "dbe1613c",
   "metadata": {},
   "outputs": [
    {
     "data": {
      "text/plain": [
       "8759"
      ]
     },
     "execution_count": 42,
     "metadata": {},
     "output_type": "execute_result"
    }
   ],
   "source": [
    "len(data_adj_unique)"
   ]
  },
  {
   "cell_type": "code",
   "execution_count": 43,
   "id": "4578b22a",
   "metadata": {},
   "outputs": [
    {
     "data": {
      "text/plain": [
       "0           ID-0\n",
       "1           ID-1\n",
       "2           ID-2\n",
       "3           ID-3\n",
       "4           ID-4\n",
       "          ...   \n",
       "26450    ID-8754\n",
       "26453    ID-8755\n",
       "26454    ID-8756\n",
       "26455    ID-8757\n",
       "26456    ID-8758\n",
       "Name: ID, Length: 8759, dtype: object"
      ]
     },
     "execution_count": 43,
     "metadata": {},
     "output_type": "execute_result"
    }
   ],
   "source": [
    "data_adj_unique['ID']"
   ]
  },
  {
   "cell_type": "code",
   "execution_count": 44,
   "id": "28b557b5",
   "metadata": {},
   "outputs": [],
   "source": [
    "data_adj_unique = pd.merge(data_adj_unique, ID_credit, left_on='ID', right_on='ID', how='inner')"
   ]
  },
  {
   "cell_type": "code",
   "execution_count": 45,
   "id": "9a313194",
   "metadata": {},
   "outputs": [
    {
     "data": {
      "text/html": [
       "<div>\n",
       "<style scoped>\n",
       "    .dataframe tbody tr th:only-of-type {\n",
       "        vertical-align: middle;\n",
       "    }\n",
       "\n",
       "    .dataframe tbody tr th {\n",
       "        vertical-align: top;\n",
       "    }\n",
       "\n",
       "    .dataframe thead th {\n",
       "        text-align: right;\n",
       "    }\n",
       "</style>\n",
       "<table border=\"1\" class=\"dataframe\">\n",
       "  <thead>\n",
       "    <tr style=\"text-align: right;\">\n",
       "      <th></th>\n",
       "      <th>ID</th>\n",
       "      <th>Counts</th>\n",
       "      <th>gender</th>\n",
       "      <th>car</th>\n",
       "      <th>reality</th>\n",
       "      <th>child_num</th>\n",
       "      <th>income_total</th>\n",
       "      <th>income_type</th>\n",
       "      <th>edu_type</th>\n",
       "      <th>family_type</th>\n",
       "      <th>...</th>\n",
       "      <th>DAYS_BIRTH</th>\n",
       "      <th>DAYS_EMPLOYED</th>\n",
       "      <th>work_phone</th>\n",
       "      <th>phone</th>\n",
       "      <th>email</th>\n",
       "      <th>occyp_type</th>\n",
       "      <th>family_size</th>\n",
       "      <th>income_percentile</th>\n",
       "      <th>income_quantile</th>\n",
       "      <th>credit</th>\n",
       "    </tr>\n",
       "  </thead>\n",
       "  <tbody>\n",
       "    <tr>\n",
       "      <th>0</th>\n",
       "      <td>ID-0</td>\n",
       "      <td>5</td>\n",
       "      <td>0.0</td>\n",
       "      <td>0.0</td>\n",
       "      <td>0.0</td>\n",
       "      <td>0</td>\n",
       "      <td>202500.0</td>\n",
       "      <td>Commercial associate</td>\n",
       "      <td>Higher education</td>\n",
       "      <td>Married</td>\n",
       "      <td>...</td>\n",
       "      <td>13899</td>\n",
       "      <td>4709</td>\n",
       "      <td>0</td>\n",
       "      <td>0</td>\n",
       "      <td>0</td>\n",
       "      <td>Commercial_associate_etc</td>\n",
       "      <td>2</td>\n",
       "      <td>7.0</td>\n",
       "      <td>3.0</td>\n",
       "      <td>1.600000</td>\n",
       "    </tr>\n",
       "    <tr>\n",
       "      <th>1</th>\n",
       "      <td>ID-1</td>\n",
       "      <td>9</td>\n",
       "      <td>0.0</td>\n",
       "      <td>0.0</td>\n",
       "      <td>1.0</td>\n",
       "      <td>1</td>\n",
       "      <td>247500.0</td>\n",
       "      <td>Commercial associate</td>\n",
       "      <td>Secondary / secondary special</td>\n",
       "      <td>Civil marriage</td>\n",
       "      <td>...</td>\n",
       "      <td>11380</td>\n",
       "      <td>1540</td>\n",
       "      <td>0</td>\n",
       "      <td>0</td>\n",
       "      <td>1</td>\n",
       "      <td>Laborers</td>\n",
       "      <td>3</td>\n",
       "      <td>8.0</td>\n",
       "      <td>4.0</td>\n",
       "      <td>0.555556</td>\n",
       "    </tr>\n",
       "    <tr>\n",
       "      <th>2</th>\n",
       "      <td>ID-2</td>\n",
       "      <td>6</td>\n",
       "      <td>1.0</td>\n",
       "      <td>1.0</td>\n",
       "      <td>1.0</td>\n",
       "      <td>0</td>\n",
       "      <td>450000.0</td>\n",
       "      <td>Working</td>\n",
       "      <td>Higher education</td>\n",
       "      <td>Married</td>\n",
       "      <td>...</td>\n",
       "      <td>19087</td>\n",
       "      <td>4434</td>\n",
       "      <td>0</td>\n",
       "      <td>1</td>\n",
       "      <td>0</td>\n",
       "      <td>Managers</td>\n",
       "      <td>2</td>\n",
       "      <td>10.0</td>\n",
       "      <td>4.0</td>\n",
       "      <td>1.833333</td>\n",
       "    </tr>\n",
       "    <tr>\n",
       "      <th>3</th>\n",
       "      <td>ID-3</td>\n",
       "      <td>2</td>\n",
       "      <td>0.0</td>\n",
       "      <td>0.0</td>\n",
       "      <td>1.0</td>\n",
       "      <td>0</td>\n",
       "      <td>202500.0</td>\n",
       "      <td>Commercial associate</td>\n",
       "      <td>Secondary / secondary special</td>\n",
       "      <td>Married</td>\n",
       "      <td>...</td>\n",
       "      <td>15088</td>\n",
       "      <td>2092</td>\n",
       "      <td>0</td>\n",
       "      <td>1</td>\n",
       "      <td>0</td>\n",
       "      <td>Sales staff</td>\n",
       "      <td>2</td>\n",
       "      <td>7.0</td>\n",
       "      <td>3.0</td>\n",
       "      <td>1.000000</td>\n",
       "    </tr>\n",
       "    <tr>\n",
       "      <th>4</th>\n",
       "      <td>ID-4</td>\n",
       "      <td>1</td>\n",
       "      <td>0.0</td>\n",
       "      <td>1.0</td>\n",
       "      <td>1.0</td>\n",
       "      <td>0</td>\n",
       "      <td>157500.0</td>\n",
       "      <td>State servant</td>\n",
       "      <td>Higher education</td>\n",
       "      <td>Married</td>\n",
       "      <td>...</td>\n",
       "      <td>15037</td>\n",
       "      <td>2105</td>\n",
       "      <td>0</td>\n",
       "      <td>0</td>\n",
       "      <td>0</td>\n",
       "      <td>Managers</td>\n",
       "      <td>2</td>\n",
       "      <td>5.0</td>\n",
       "      <td>2.0</td>\n",
       "      <td>2.000000</td>\n",
       "    </tr>\n",
       "  </tbody>\n",
       "</table>\n",
       "<p>5 rows × 21 columns</p>\n",
       "</div>"
      ],
      "text/plain": [
       "     ID  Counts  gender  car  reality  child_num  income_total  \\\n",
       "0  ID-0       5     0.0  0.0      0.0          0      202500.0   \n",
       "1  ID-1       9     0.0  0.0      1.0          1      247500.0   \n",
       "2  ID-2       6     1.0  1.0      1.0          0      450000.0   \n",
       "3  ID-3       2     0.0  0.0      1.0          0      202500.0   \n",
       "4  ID-4       1     0.0  1.0      1.0          0      157500.0   \n",
       "\n",
       "            income_type                       edu_type     family_type  ...  \\\n",
       "0  Commercial associate               Higher education         Married  ...   \n",
       "1  Commercial associate  Secondary / secondary special  Civil marriage  ...   \n",
       "2               Working               Higher education         Married  ...   \n",
       "3  Commercial associate  Secondary / secondary special         Married  ...   \n",
       "4         State servant               Higher education         Married  ...   \n",
       "\n",
       "  DAYS_BIRTH  DAYS_EMPLOYED  work_phone  phone  email  \\\n",
       "0      13899           4709           0      0      0   \n",
       "1      11380           1540           0      0      1   \n",
       "2      19087           4434           0      1      0   \n",
       "3      15088           2092           0      1      0   \n",
       "4      15037           2105           0      0      0   \n",
       "\n",
       "                 occyp_type family_size  income_percentile  income_quantile  \\\n",
       "0  Commercial_associate_etc           2                7.0              3.0   \n",
       "1                  Laborers           3                8.0              4.0   \n",
       "2                  Managers           2               10.0              4.0   \n",
       "3               Sales staff           2                7.0              3.0   \n",
       "4                  Managers           2                5.0              2.0   \n",
       "\n",
       "     credit  \n",
       "0  1.600000  \n",
       "1  0.555556  \n",
       "2  1.833333  \n",
       "3  1.000000  \n",
       "4  2.000000  \n",
       "\n",
       "[5 rows x 21 columns]"
      ]
     },
     "execution_count": 45,
     "metadata": {},
     "output_type": "execute_result"
    }
   ],
   "source": [
    "data_adj_unique.head()"
   ]
  },
  {
   "cell_type": "code",
   "execution_count": 46,
   "id": "88cfc0f5",
   "metadata": {
    "scrolled": true
   },
   "outputs": [],
   "source": [
    "data_adj_unique['credit_avg'] = data_adj_unique['credit']\n",
    "data_adj_unique = data_adj_unique.drop('credit', axis = 1)"
   ]
  },
  {
   "cell_type": "code",
   "execution_count": 47,
   "id": "bed2f249",
   "metadata": {
    "scrolled": true
   },
   "outputs": [
    {
     "data": {
      "text/html": [
       "<div>\n",
       "<style scoped>\n",
       "    .dataframe tbody tr th:only-of-type {\n",
       "        vertical-align: middle;\n",
       "    }\n",
       "\n",
       "    .dataframe tbody tr th {\n",
       "        vertical-align: top;\n",
       "    }\n",
       "\n",
       "    .dataframe thead th {\n",
       "        text-align: right;\n",
       "    }\n",
       "</style>\n",
       "<table border=\"1\" class=\"dataframe\">\n",
       "  <thead>\n",
       "    <tr style=\"text-align: right;\">\n",
       "      <th></th>\n",
       "      <th>ID</th>\n",
       "      <th>Counts</th>\n",
       "      <th>gender</th>\n",
       "      <th>car</th>\n",
       "      <th>reality</th>\n",
       "      <th>child_num</th>\n",
       "      <th>income_total</th>\n",
       "      <th>income_type</th>\n",
       "      <th>edu_type</th>\n",
       "      <th>family_type</th>\n",
       "      <th>...</th>\n",
       "      <th>DAYS_BIRTH</th>\n",
       "      <th>DAYS_EMPLOYED</th>\n",
       "      <th>work_phone</th>\n",
       "      <th>phone</th>\n",
       "      <th>email</th>\n",
       "      <th>occyp_type</th>\n",
       "      <th>family_size</th>\n",
       "      <th>income_percentile</th>\n",
       "      <th>income_quantile</th>\n",
       "      <th>credit_avg</th>\n",
       "    </tr>\n",
       "  </thead>\n",
       "  <tbody>\n",
       "    <tr>\n",
       "      <th>0</th>\n",
       "      <td>ID-0</td>\n",
       "      <td>5</td>\n",
       "      <td>0.0</td>\n",
       "      <td>0.0</td>\n",
       "      <td>0.0</td>\n",
       "      <td>0</td>\n",
       "      <td>202500.0</td>\n",
       "      <td>Commercial associate</td>\n",
       "      <td>Higher education</td>\n",
       "      <td>Married</td>\n",
       "      <td>...</td>\n",
       "      <td>13899</td>\n",
       "      <td>4709</td>\n",
       "      <td>0</td>\n",
       "      <td>0</td>\n",
       "      <td>0</td>\n",
       "      <td>Commercial_associate_etc</td>\n",
       "      <td>2</td>\n",
       "      <td>7.0</td>\n",
       "      <td>3.0</td>\n",
       "      <td>1.600000</td>\n",
       "    </tr>\n",
       "    <tr>\n",
       "      <th>1</th>\n",
       "      <td>ID-1</td>\n",
       "      <td>9</td>\n",
       "      <td>0.0</td>\n",
       "      <td>0.0</td>\n",
       "      <td>1.0</td>\n",
       "      <td>1</td>\n",
       "      <td>247500.0</td>\n",
       "      <td>Commercial associate</td>\n",
       "      <td>Secondary / secondary special</td>\n",
       "      <td>Civil marriage</td>\n",
       "      <td>...</td>\n",
       "      <td>11380</td>\n",
       "      <td>1540</td>\n",
       "      <td>0</td>\n",
       "      <td>0</td>\n",
       "      <td>1</td>\n",
       "      <td>Laborers</td>\n",
       "      <td>3</td>\n",
       "      <td>8.0</td>\n",
       "      <td>4.0</td>\n",
       "      <td>0.555556</td>\n",
       "    </tr>\n",
       "    <tr>\n",
       "      <th>2</th>\n",
       "      <td>ID-2</td>\n",
       "      <td>6</td>\n",
       "      <td>1.0</td>\n",
       "      <td>1.0</td>\n",
       "      <td>1.0</td>\n",
       "      <td>0</td>\n",
       "      <td>450000.0</td>\n",
       "      <td>Working</td>\n",
       "      <td>Higher education</td>\n",
       "      <td>Married</td>\n",
       "      <td>...</td>\n",
       "      <td>19087</td>\n",
       "      <td>4434</td>\n",
       "      <td>0</td>\n",
       "      <td>1</td>\n",
       "      <td>0</td>\n",
       "      <td>Managers</td>\n",
       "      <td>2</td>\n",
       "      <td>10.0</td>\n",
       "      <td>4.0</td>\n",
       "      <td>1.833333</td>\n",
       "    </tr>\n",
       "    <tr>\n",
       "      <th>3</th>\n",
       "      <td>ID-3</td>\n",
       "      <td>2</td>\n",
       "      <td>0.0</td>\n",
       "      <td>0.0</td>\n",
       "      <td>1.0</td>\n",
       "      <td>0</td>\n",
       "      <td>202500.0</td>\n",
       "      <td>Commercial associate</td>\n",
       "      <td>Secondary / secondary special</td>\n",
       "      <td>Married</td>\n",
       "      <td>...</td>\n",
       "      <td>15088</td>\n",
       "      <td>2092</td>\n",
       "      <td>0</td>\n",
       "      <td>1</td>\n",
       "      <td>0</td>\n",
       "      <td>Sales staff</td>\n",
       "      <td>2</td>\n",
       "      <td>7.0</td>\n",
       "      <td>3.0</td>\n",
       "      <td>1.000000</td>\n",
       "    </tr>\n",
       "    <tr>\n",
       "      <th>4</th>\n",
       "      <td>ID-4</td>\n",
       "      <td>1</td>\n",
       "      <td>0.0</td>\n",
       "      <td>1.0</td>\n",
       "      <td>1.0</td>\n",
       "      <td>0</td>\n",
       "      <td>157500.0</td>\n",
       "      <td>State servant</td>\n",
       "      <td>Higher education</td>\n",
       "      <td>Married</td>\n",
       "      <td>...</td>\n",
       "      <td>15037</td>\n",
       "      <td>2105</td>\n",
       "      <td>0</td>\n",
       "      <td>0</td>\n",
       "      <td>0</td>\n",
       "      <td>Managers</td>\n",
       "      <td>2</td>\n",
       "      <td>5.0</td>\n",
       "      <td>2.0</td>\n",
       "      <td>2.000000</td>\n",
       "    </tr>\n",
       "  </tbody>\n",
       "</table>\n",
       "<p>5 rows × 21 columns</p>\n",
       "</div>"
      ],
      "text/plain": [
       "     ID  Counts  gender  car  reality  child_num  income_total  \\\n",
       "0  ID-0       5     0.0  0.0      0.0          0      202500.0   \n",
       "1  ID-1       9     0.0  0.0      1.0          1      247500.0   \n",
       "2  ID-2       6     1.0  1.0      1.0          0      450000.0   \n",
       "3  ID-3       2     0.0  0.0      1.0          0      202500.0   \n",
       "4  ID-4       1     0.0  1.0      1.0          0      157500.0   \n",
       "\n",
       "            income_type                       edu_type     family_type  ...  \\\n",
       "0  Commercial associate               Higher education         Married  ...   \n",
       "1  Commercial associate  Secondary / secondary special  Civil marriage  ...   \n",
       "2               Working               Higher education         Married  ...   \n",
       "3  Commercial associate  Secondary / secondary special         Married  ...   \n",
       "4         State servant               Higher education         Married  ...   \n",
       "\n",
       "  DAYS_BIRTH  DAYS_EMPLOYED  work_phone  phone  email  \\\n",
       "0      13899           4709           0      0      0   \n",
       "1      11380           1540           0      0      1   \n",
       "2      19087           4434           0      1      0   \n",
       "3      15088           2092           0      1      0   \n",
       "4      15037           2105           0      0      0   \n",
       "\n",
       "                 occyp_type family_size  income_percentile  income_quantile  \\\n",
       "0  Commercial_associate_etc           2                7.0              3.0   \n",
       "1                  Laborers           3                8.0              4.0   \n",
       "2                  Managers           2               10.0              4.0   \n",
       "3               Sales staff           2                7.0              3.0   \n",
       "4                  Managers           2                5.0              2.0   \n",
       "\n",
       "   credit_avg  \n",
       "0    1.600000  \n",
       "1    0.555556  \n",
       "2    1.833333  \n",
       "3    1.000000  \n",
       "4    2.000000  \n",
       "\n",
       "[5 rows x 21 columns]"
      ]
     },
     "execution_count": 47,
     "metadata": {},
     "output_type": "execute_result"
    }
   ],
   "source": [
    "data_adj_unique.head()"
   ]
  },
  {
   "cell_type": "code",
   "execution_count": null,
   "id": "5162302f",
   "metadata": {},
   "outputs": [],
   "source": []
  },
  {
   "cell_type": "code",
   "execution_count": null,
   "id": "09c8ec71",
   "metadata": {},
   "outputs": [],
   "source": []
  },
  {
   "cell_type": "markdown",
   "id": "dc3a3b21",
   "metadata": {},
   "source": [
    "# 2 기술통계량 분석"
   ]
  },
  {
   "cell_type": "markdown",
   "id": "b6fabac4",
   "metadata": {},
   "source": [
    "# 2.1 소득분위별 신용수요: 저번주와 동일한 결과"
   ]
  },
  {
   "cell_type": "markdown",
   "id": "54faf74e",
   "metadata": {},
   "source": [
    "# 2.1.1 소득분위별 주택보유현황: 특별한 경향 없음"
   ]
  },
  {
   "cell_type": "code",
   "execution_count": 20,
   "id": "b9069868",
   "metadata": {
    "scrolled": true
   },
   "outputs": [
    {
     "data": {
      "text/plain": [
       "Text(0.5, 1.0, 'Probability of owning house VS Income Percentile')"
      ]
     },
     "execution_count": 20,
     "metadata": {},
     "output_type": "execute_result"
    },
    {
     "data": {
      "image/png": "[encoded data removed]",
      "text/plain": [
       "<Figure size 432x288 with 1 Axes>"
      ]
     },
     "metadata": {
      "needs_background": "light"
     },
     "output_type": "display_data"
    }
   ],
   "source": [
    "data_adj_unique.groupby('income_percentile')['reality'].mean().plot(kind = 'bar')\n",
    "plt.ylim(0.2, 1)\n",
    "plt.xlabel('income percentile')\n",
    "plt.ylabel('Probability of owning house')\n",
    "plt.title('Probability of owning house VS Income Percentile')"
   ]
  },
  {
   "cell_type": "code",
   "execution_count": 21,
   "id": "b012a394",
   "metadata": {
    "scrolled": false
   },
   "outputs": [
    {
     "data": {
      "text/plain": [
       "(1.2, 1.8)"
      ]
     },
     "execution_count": 21,
     "metadata": {},
     "output_type": "execute_result"
    },
    {
     "data": {
      "image/png": "[encoded data removed]",
      "text/plain": [
       "<Figure size 432x288 with 1 Axes>"
      ]
     },
     "metadata": {
      "needs_background": "light"
     },
     "output_type": "display_data"
    }
   ],
   "source": [
    "data_adj_unique.groupby(['income_percentile', 'reality'])['credit_avg'].mean().unstack().plot(kind='bar')\n",
    "plt.xlabel('income percentile and house ownership')\n",
    "plt.ylabel('average credit level')\n",
    "plt.title('Credit Level VS Income and House Ownership')\n",
    "plt.ylim(1.2,1.8)"
   ]
  },
  {
   "cell_type": "code",
   "execution_count": 22,
   "id": "66c5213d",
   "metadata": {
    "scrolled": false
   },
   "outputs": [
    {
     "data": {
      "text/plain": [
       "(2.0, 4.0)"
      ]
     },
     "execution_count": 22,
     "metadata": {},
     "output_type": "execute_result"
    },
    {
     "data": {
      "image/png": "[encoded data removed]",
      "text/plain": [
       "<Figure size 432x288 with 1 Axes>"
      ]
     },
     "metadata": {
      "needs_background": "light"
     },
     "output_type": "display_data"
    }
   ],
   "source": [
    "data_adj_unique.groupby('reality')['Counts'].mean().plot(kind = 'bar')\n",
    "plt.xlabel('Reality')\n",
    "plt.ylabel('Average # of Credit Cards')\n",
    "plt.title('Reality VS Average # of Credit Cards')\n",
    "plt.ylim(2, 4)"
   ]
  },
  {
   "cell_type": "markdown",
   "id": "27369455",
   "metadata": {},
   "source": [
    "# 2.1.1 소결\n",
    "(1) 소득분위와 부동산 소유 현황 간의 패턴이 없음.\n",
    "-> 해석: 부동산은 필수재이므로 소득이 낮아도 부동산을 필요로 함 \n",
    "(2) 신용카드 발급회수와 부동산 소유 현황 간의 패턴이 없음.\n",
    "-> 해석: 부동산 소유 자체는 과소비 또는 신용과잉 행태와 무관함"
   ]
  },
  {
   "cell_type": "code",
   "execution_count": null,
   "id": "32cd5164",
   "metadata": {},
   "outputs": [],
   "source": []
  },
  {
   "cell_type": "code",
   "execution_count": null,
   "id": "a01640ea",
   "metadata": {},
   "outputs": [],
   "source": []
  },
  {
   "cell_type": "markdown",
   "id": "009f8416",
   "metadata": {},
   "source": [
    "# 2.1.2 소득분위별 자동차 소유 현황: 소득분위가 낮으면 자동차를 덜 소유함"
   ]
  },
  {
   "cell_type": "code",
   "execution_count": 23,
   "id": "c56de3aa",
   "metadata": {
    "scrolled": false
   },
   "outputs": [
    {
     "data": {
      "text/plain": [
       "Text(0.5, 1.0, 'Probability of owning car VS Income Percentile')"
      ]
     },
     "execution_count": 23,
     "metadata": {},
     "output_type": "execute_result"
    },
    {
     "data": {
      "image/png": "[encoded data removed]",
      "text/plain": [
       "<Figure size 432x288 with 1 Axes>"
      ]
     },
     "metadata": {
      "needs_background": "light"
     },
     "output_type": "display_data"
    }
   ],
   "source": [
    "data_adj_unique.groupby('income_percentile')['car'].mean().plot(kind = 'bar')\n",
    "plt.ylim(0, 0.8)\n",
    "plt.xlabel('income percentile')\n",
    "plt.ylabel('Probability of owning car')\n",
    "plt.title('Probability of owning car VS Income Percentile')"
   ]
  },
  {
   "cell_type": "code",
   "execution_count": 24,
   "id": "72329aff",
   "metadata": {
    "scrolled": true
   },
   "outputs": [
    {
     "data": {
      "text/plain": [
       "Text(0.5, 1.0, 'Car VS Average Credit level')"
      ]
     },
     "execution_count": 24,
     "metadata": {},
     "output_type": "execute_result"
    },
    {
     "data": {
      "image/png": "[encoded data removed]",
      "text/plain": [
       "<Figure size 432x288 with 1 Axes>"
      ]
     },
     "metadata": {
      "needs_background": "light"
     },
     "output_type": "display_data"
    }
   ],
   "source": [
    "data_adj_unique.groupby('car')['credit_avg'].mean().plot(kind = 'bar')\n",
    "plt.xlabel('car')\n",
    "plt.ylabel('average credit level')\n",
    "plt.ylim(0, 3)\n",
    "plt.title('Car VS Average Credit level')"
   ]
  },
  {
   "cell_type": "code",
   "execution_count": 25,
   "id": "b1eaad08",
   "metadata": {
    "scrolled": true
   },
   "outputs": [
    {
     "data": {
      "text/plain": [
       "(1.0, 4.0)"
      ]
     },
     "execution_count": 25,
     "metadata": {},
     "output_type": "execute_result"
    },
    {
     "data": {
      "image/png": "[encoded data removed]",
      "text/plain": [
       "<Figure size 432x288 with 1 Axes>"
      ]
     },
     "metadata": {
      "needs_background": "light"
     },
     "output_type": "display_data"
    }
   ],
   "source": [
    "data_adj_unique.groupby('car')['Counts'].mean().plot(kind = 'bar')\n",
    "plt.xlabel('Car')\n",
    "plt.ylabel('Average # of Credit Cards')\n",
    "plt.title('Car VS Average # of Credit Cards')\n",
    "plt.ylim(1, 4)"
   ]
  },
  {
   "cell_type": "code",
   "execution_count": 26,
   "id": "492e9933",
   "metadata": {},
   "outputs": [
    {
     "data": {
      "text/plain": [
       "(1.2, 1.8)"
      ]
     },
     "execution_count": 26,
     "metadata": {},
     "output_type": "execute_result"
    },
    {
     "data": {
      "image/png": "[encoded data removed]",
      "text/plain": [
       "<Figure size 432x288 with 1 Axes>"
      ]
     },
     "metadata": {
      "needs_background": "light"
     },
     "output_type": "display_data"
    }
   ],
   "source": [
    "data_adj_unique.groupby(['income_percentile', 'car'])['credit_avg'].mean().unstack().plot(kind='bar')\n",
    "plt.xlabel('income percentile and car ownership')\n",
    "plt.ylabel('average credit level')\n",
    "plt.title('Credit Level VS Income and Car Ownership')\n",
    "plt.ylim(1.2,1.8)"
   ]
  },
  {
   "cell_type": "markdown",
   "id": "da0e64db",
   "metadata": {},
   "source": [
    "# 2.1.2 소결\n",
    "(1) 소득분위가 낮을수록 자동차를 덜 보유함\n",
    "-> 자동차는 필수재 성격이 낮으므로, 소득수준이 낮으면 자동차를 덜 보유하는 것. 소득이 줄면 불필요한 신용 수요도 줄어든다는 결론\n",
    "(2) 신용카드 연체 정도와 자동차 보유는 상관이 없음\n",
    "-> 자동차를 보유하는 사람들은 대개 소득이 그만큼 높기 때문에, 자동차를 보유한다고 신용카드 연체가 늘어나지 않음\n",
    "(3) 자동차를 보유한 사람들은 신용카드 발급회수가 더 많음\n",
    "-> 자동차를 보유하는 사람들은 신용행태가 더 활발하므로 신용카드를 더 많이 발급\n",
    "(4) 저번주에는 하위 소득분위에서 자동차 보유 시 연체정도가 높아지는 경향이 있었는데, 데이터 전처리 후 그런 경향이 사라짐??"
   ]
  },
  {
   "cell_type": "code",
   "execution_count": null,
   "id": "8c932bae",
   "metadata": {},
   "outputs": [],
   "source": []
  },
  {
   "cell_type": "code",
   "execution_count": null,
   "id": "433a96b0",
   "metadata": {},
   "outputs": [],
   "source": []
  },
  {
   "cell_type": "markdown",
   "id": "bc97c227",
   "metadata": {},
   "source": [
    "# 2.2 신용카드 발급회수와 신용카드 연체"
   ]
  },
  {
   "cell_type": "markdown",
   "id": "f34b7a5e",
   "metadata": {},
   "source": [
    "# 2.2.1 신용카드 발급회수의 히스토그램: 주로 1~2개"
   ]
  },
  {
   "cell_type": "code",
   "execution_count": 27,
   "id": "33a0ac1d",
   "metadata": {
    "scrolled": true
   },
   "outputs": [
    {
     "data": {
      "text/plain": [
       "Text(0.5, 1.0, '<Histogram> # of Credit Cards')"
      ]
     },
     "execution_count": 27,
     "metadata": {},
     "output_type": "execute_result"
    },
    {
     "data": {
      "image/png": "[encoded data removed]",
      "text/plain": [
       "<Figure size 432x288 with 1 Axes>"
      ]
     },
     "metadata": {
      "needs_background": "light"
     },
     "output_type": "display_data"
    }
   ],
   "source": [
    "plt.hist(data_adj_unique['Counts'], bins = 20)\n",
    "plt.xlabel('# of Credit Cards')\n",
    "plt.title('<Histogram> # of Credit Cards')"
   ]
  },
  {
   "cell_type": "markdown",
   "id": "651363aa",
   "metadata": {},
   "source": [
    "# 2.2.2 신용카드 발급회수와 신용카드의 평균 연체율"
   ]
  },
  {
   "cell_type": "code",
   "execution_count": 28,
   "id": "e02a4cb1",
   "metadata": {},
   "outputs": [
    {
     "data": {
      "text/plain": [
       "Text(0.5, 1.0, 'Average Credit level VS # of Credit Cards')"
      ]
     },
     "execution_count": 28,
     "metadata": {},
     "output_type": "execute_result"
    },
    {
     "data": {
      "image/png": "[encoded data removed]",
      "text/plain": [
       "<Figure size 432x288 with 1 Axes>"
      ]
     },
     "metadata": {
      "needs_background": "light"
     },
     "output_type": "display_data"
    }
   ],
   "source": [
    "data_adj_unique.groupby('Counts')['credit_avg'].mean().plot(kind = 'bar')\n",
    "plt.xlabel('# of Credit Cards')\n",
    "plt.ylabel('Average Credit level')\n",
    "plt.title('Average Credit level VS # of Credit Cards')"
   ]
  },
  {
   "cell_type": "code",
   "execution_count": 99,
   "id": "9ac2802a",
   "metadata": {},
   "outputs": [
    {
     "data": {
      "text/plain": [
       "Text(0.5, 1.0, '# of Credit Cards VS Income')"
      ]
     },
     "execution_count": 99,
     "metadata": {},
     "output_type": "execute_result"
    },
    {
     "data": {
      "image/png": "[encoded data removed]",
      "text/plain": [
       "<Figure size 432x288 with 1 Axes>"
      ]
     },
     "metadata": {
      "needs_background": "light"
     },
     "output_type": "display_data"
    }
   ],
   "source": [
    "data_adj_unique.groupby('income_percentile')['Counts'].mean().plot(kind = 'bar')\n",
    "plt.ylabel('# of Credit Cards')\n",
    "plt.xlabel('Income Percentile')\n",
    "plt.title('# of Credit Cards VS Income')"
   ]
  },
  {
   "cell_type": "markdown",
   "id": "e36cb959",
   "metadata": {},
   "source": [
    "# 2.2 소결\n",
    "(1) 신용카드 발급회수와 신용카드 평균 연체 정도는 무관함 혹은, 발급회수가 늘어날 수록 평균 연체 정도는 줄어듦\n",
    "-> 신용카드를 많이 발급하는 사람들은 그만큼 소득이 받쳐주기 때문에 가능한 것.\n",
    "-> 결국 소득이 줄어들면 그에 비례해서 신용수요가 줄어들기 때문에 소득 자체가 신용카드 연체와 무관하다는 기존 결론과 일관됨\n",
    "(2) 소득이 높아지면 신용카드 발급회수가 늘어남.\n",
    "-> (1)의 결론을 뒷받침하는 근거\n",
    "(3) 아웃라이어 처리: 신용카드를 10개 이상 발급하는 경우는 뭔가 문제가 있음. 관측치 수도 많지 않으므로 제거도 고려했으면."
   ]
  },
  {
   "cell_type": "code",
   "execution_count": null,
   "id": "7bb3706f",
   "metadata": {},
   "outputs": [],
   "source": []
  },
  {
   "cell_type": "code",
   "execution_count": null,
   "id": "a4bdf1df",
   "metadata": {},
   "outputs": [],
   "source": []
  },
  {
   "cell_type": "markdown",
   "id": "b7438b6a",
   "metadata": {},
   "source": [
    "# 2.3. 자녀의 수: 특별한 경향 없음"
   ]
  },
  {
   "cell_type": "code",
   "execution_count": 49,
   "id": "7a23d674",
   "metadata": {
    "scrolled": true
   },
   "outputs": [
    {
     "data": {
      "text/plain": [
       "0     6144\n",
       "1     1708\n",
       "2      769\n",
       "3      116\n",
       "4       16\n",
       "5        3\n",
       "19       1\n",
       "14       1\n",
       "7        1\n",
       "Name: child_num, dtype: int64"
      ]
     },
     "execution_count": 49,
     "metadata": {},
     "output_type": "execute_result"
    }
   ],
   "source": [
    "data_adj_unique['child_num'].value_counts()"
   ]
  },
  {
   "cell_type": "code",
   "execution_count": 51,
   "id": "f1878d59",
   "metadata": {},
   "outputs": [
    {
     "name": "stdout",
     "output_type": "stream",
     "text": [
      "0.0    6144\n",
      "1.0    1708\n",
      "2.0     769\n",
      "3.0     138\n",
      "Name: child_num_group, dtype: int64\n"
     ]
    }
   ],
   "source": [
    "data_adj_unique.loc[data_adj_unique['child_num'] == 0, 'child_num_group'] = 0\n",
    "data_adj_unique.loc[data_adj_unique['child_num'] == 1, 'child_num_group'] = 1\n",
    "data_adj_unique.loc[data_adj_unique['child_num'] == 2, 'child_num_group'] = 2\n",
    "data_adj_unique.loc[data_adj_unique['child_num'] >= 3, 'child_num_group'] = 3\n",
    "print(data_adj_unique['child_num_group'].value_counts())"
   ]
  },
  {
   "cell_type": "code",
   "execution_count": 105,
   "id": "3deeea0a",
   "metadata": {},
   "outputs": [
    {
     "data": {
      "text/plain": [
       "(2.0, 4.0)"
      ]
     },
     "execution_count": 105,
     "metadata": {},
     "output_type": "execute_result"
    },
    {
     "data": {
      "image/png": "[encoded data removed]",
      "text/plain": [
       "<Figure size 432x288 with 1 Axes>"
      ]
     },
     "metadata": {
      "needs_background": "light"
     },
     "output_type": "display_data"
    }
   ],
   "source": [
    "data_adj_unique.groupby('child_num_group')['Counts'].mean().plot(kind = 'bar')\n",
    "plt.xlabel('# of child')\n",
    "plt.ylabel('# of credit cards')\n",
    "plt.title('# of child VS # of credit cards')\n",
    "plt.ylim(2, 4)"
   ]
  },
  {
   "cell_type": "code",
   "execution_count": 104,
   "id": "2df9da06",
   "metadata": {},
   "outputs": [
    {
     "data": {
      "text/plain": [
       "(1.2, 1.8)"
      ]
     },
     "execution_count": 104,
     "metadata": {},
     "output_type": "execute_result"
    },
    {
     "data": {
      "image/png": "[encoded data removed]",
      "text/plain": [
       "<Figure size 432x288 with 1 Axes>"
      ]
     },
     "metadata": {
      "needs_background": "light"
     },
     "output_type": "display_data"
    }
   ],
   "source": [
    "data_adj_unique.groupby('child_num_group')['credit_avg'].mean().plot(kind = 'bar')\n",
    "plt.xlabel('# of child')\n",
    "plt.ylabel('average credit level')\n",
    "plt.title('# of child VS average credit level')\n",
    "plt.ylim(1.2, 1.8)"
   ]
  },
  {
   "cell_type": "code",
   "execution_count": 102,
   "id": "52214998",
   "metadata": {
    "scrolled": true
   },
   "outputs": [
    {
     "data": {
      "text/plain": [
       "(1.2, 1.9)"
      ]
     },
     "execution_count": 102,
     "metadata": {},
     "output_type": "execute_result"
    },
    {
     "data": {
      "image/png": "[encoded data removed]",
      "text/plain": [
       "<Figure size 432x288 with 1 Axes>"
      ]
     },
     "metadata": {
      "needs_background": "light"
     },
     "output_type": "display_data"
    }
   ],
   "source": [
    "data_adj_unique.groupby(['income_quantile', 'child_num_group'])['credit_avg'].mean().unstack().plot(kind='bar', legend='None')\n",
    "plt.xlabel('income quantile and children')\n",
    "plt.ylabel('average credit level')\n",
    "plt.title('Credit Level VS Income and children')\n",
    "# plt.legend('',frameon=False)\n",
    "plt.ylim(1.2, 1.9)"
   ]
  },
  {
   "cell_type": "markdown",
   "id": "3ffa0116",
   "metadata": {},
   "source": [
    "# 2.3 소결\n",
    "(1) 자녀의 수와 신용카드 연체에는 상관이 없음\n",
    "(2) 자녀의 수와 신용카드 발급회수에는 상관이 없음"
   ]
  }
 ],
 "metadata": {
  "kernelspec": {
   "display_name": "Python 3",
   "language": "python",
   "name": "python3"
  },
  "language_info": {
   "codemirror_mode": {
    "name": "ipython",
    "version": 3
   },
   "file_extension": ".py",
   "mimetype": "text/x-python",
   "name": "python",
   "nbconvert_exporter": "python",
   "pygments_lexer": "ipython3",
   "version": "3.8.8"
  },
  "toc": {
   "base_numbering": 1,
   "nav_menu": {},
   "number_sections": true,
   "sideBar": true,
   "skip_h1_title": false,
   "title_cell": "Table of Contents",
   "title_sidebar": "Contents",
   "toc_cell": false,
   "toc_position": {},
   "toc_section_display": true,
   "toc_window_display": false
  }
 },
 "nbformat": 4,
 "nbformat_minor": 5
}
